{
 "metadata": {
  "name": "",
  "signature": "sha256:4e7419efa03e1b722abda422cb5cfaad272c8960a825f39700ceb004b6ea8b06"
 },
 "nbformat": 3,
 "nbformat_minor": 0,
 "worksheets": [
  {
   "cells": [
    {
     "cell_type": "code",
     "collapsed": false,
     "input": [
      "import matplotlib.pyplot as plt\n",
      "import matplotlib as mpl\n",
      "import numpy as np\n",
      "%matplotlib inline"
     ],
     "language": "python",
     "metadata": {},
     "outputs": [],
     "prompt_number": 1
    },
    {
     "cell_type": "code",
     "collapsed": false,
     "input": [
      "fig, ax = plt.subplots()\n",
      "coll = ax.hist2d(x=np.random.randn(10), y=np.random.randn(10), label='this')"
     ],
     "language": "python",
     "metadata": {},
     "outputs": [
      {
       "metadata": {},
       "output_type": "display_data",
       "png": "[encoded data removed]",
       "text": [
        "<matplotlib.figure.Figure at 0x109e47fd0>"
       ]
      }
     ],
     "prompt_number": 12
    },
    {
     "cell_type": "code",
     "collapsed": false,
     "input": [
      "ax.containers[0].user_call"
     ],
     "language": "python",
     "metadata": {},
     "outputs": [
      {
       "metadata": {},
       "output_type": "pyout",
       "prompt_number": 14,
       "text": [
        "{'bins': 10,\n",
        " 'cmax': None,\n",
        " 'cmin': None,\n",
        " 'kwargs': {'label': 'this'},\n",
        " 'normed': False,\n",
        " 'range': <function range>,\n",
        " 'type': u'hist2d',\n",
        " 'weights': None,\n",
        " 'x': array([ 0.88194671,  1.7508617 ,  0.13039769, -0.34350075,  0.4697309 ,\n",
        "         0.76910328,  0.65373952, -0.09123017,  0.18026974,  1.08709012]),\n",
        " 'y': array([-0.05370949, -1.58306613, -0.25612244, -0.25857027,  1.22104053,\n",
        "        -0.09395669, -0.69047799, -0.09005291, -0.34076207, -0.01680377])}"
       ]
      }
     ],
     "prompt_number": 14
    },
    {
     "cell_type": "code",
     "collapsed": false,
     "input": [],
     "language": "python",
     "metadata": {},
     "outputs": []
    }
   ],
   "metadata": {}
  }
 ]
}