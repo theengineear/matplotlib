{
 "metadata": {
  "name": "",
  "signature": "sha256:45df06d83af87ed07c306f314139ce829c80ac8ec7cf70dfe0507b75868ce0e3"
 },
 "nbformat": 3,
 "nbformat_minor": 0,
 "worksheets": [
  {
   "cells": [
    {
     "cell_type": "code",
     "collapsed": false,
     "input": [
      "import matplotlib.pyplot as plt\n",
      "import matplotlib as mpl\n",
      "import numpy as np\n",
      "%matplotlib inline"
     ],
     "language": "python",
     "metadata": {},
     "outputs": [],
     "prompt_number": 1
    },
    {
     "cell_type": "code",
     "collapsed": false,
     "input": [
      "fig, ax = plt.subplots()\n",
      "coll = ax.scatter(np.random.randn(10), np.random.randn(10), label='this')"
     ],
     "language": "python",
     "metadata": {},
     "outputs": [
      {
       "metadata": {},
       "output_type": "display_data",
       "png": "[encoded data removed]",
       "text": [
        "<matplotlib.figure.Figure at 0x10b693bd0>"
       ]
      }
     ],
     "prompt_number": 2
    },
    {
     "cell_type": "code",
     "collapsed": false,
     "input": [
      "ax.containers[0].user_call"
     ],
     "language": "python",
     "metadata": {},
     "outputs": [
      {
       "metadata": {},
       "output_type": "pyout",
       "prompt_number": 3,
       "text": [
        "{'alpha': None,\n",
        " 'c': u'b',\n",
        " 'cmap': None,\n",
        " 'collection': <matplotlib.collections.PathCollection at 0x10b693b90>,\n",
        " 'kwargs': {'label': 'this'},\n",
        " u'label': 'this',\n",
        " 'linewidths': None,\n",
        " 'marker': u'o',\n",
        " 'norm': None,\n",
        " 's': masked_array(data = [20],\n",
        "              mask = False,\n",
        "        fill_value = 999999),\n",
        " 'type': u'scatter',\n",
        " 'verts': None,\n",
        " 'vmax': None,\n",
        " 'vmin': None,\n",
        " 'x': array([-1.43705639,  1.31122083, -0.86295543, -1.00073435,  0.71356373,\n",
        "        -2.76391686,  0.27322865, -0.7598453 ,  2.32795585, -1.07922495]),\n",
        " 'y': array([ 0.03094032, -0.13549319, -1.4388643 , -0.8978478 , -0.05462661,\n",
        "        -1.53932133,  1.51126535,  0.10504514, -0.3305192 , -0.57962498])}"
       ]
      }
     ],
     "prompt_number": 3
    },
    {
     "cell_type": "code",
     "collapsed": false,
     "input": [],
     "language": "python",
     "metadata": {},
     "outputs": []
    }
   ],
   "metadata": {}
  }
 ]
}