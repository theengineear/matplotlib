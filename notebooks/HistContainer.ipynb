{
 "metadata": {
  "name": "",
  "signature": "sha256:23d7292a008623d85eb1bd8dc66169d280a13f1b8838b114dc0151a28ecacf4c"
 },
 "nbformat": 3,
 "nbformat_minor": 0,
 "worksheets": [
  {
   "cells": [
    {
     "cell_type": "code",
     "collapsed": false,
     "input": [
      "import matplotlib.pyplot as plt\n",
      "import matplotlib as mpl\n",
      "import numpy as np\n",
      "%matplotlib inline"
     ],
     "language": "python",
     "metadata": {},
     "outputs": [],
     "prompt_number": 1
    },
    {
     "cell_type": "code",
     "collapsed": false,
     "input": [
      "fig, ax = plt.subplots()\n",
      "coll = ax.hist(np.random.randn(10), label='this')"
     ],
     "language": "python",
     "metadata": {},
     "outputs": [
      {
       "metadata": {},
       "output_type": "display_data",
       "png": "[encoded data removed]",
       "text": [
        "<matplotlib.figure.Figure at 0x106ab1a90>"
       ]
      }
     ],
     "prompt_number": 2
    },
    {
     "cell_type": "code",
     "collapsed": false,
     "input": [
      "ax.containers[1].user_call"
     ],
     "language": "python",
     "metadata": {},
     "outputs": [
      {
       "metadata": {},
       "output_type": "pyout",
       "prompt_number": 3,
       "text": [
        "{'align': u'mid',\n",
        " 'bins': array([-2.06075396, -1.69242017, -1.32408638, -0.9557526 , -0.58741881,\n",
        "        -0.21908502,  0.14924876,  0.51758255,  0.88591634,  1.25425013,\n",
        "         1.62258391]),\n",
        " 'bottom': array([ 0.,  0.,  0.,  0.,  0.,  0.,  0.,  0.,  0.,  0.]),\n",
        " 'color': [u'b'],\n",
        " 'cumulative': False,\n",
        " 'histtype': u'bar',\n",
        " 'kwargs': {},\n",
        " 'label': 'this',\n",
        " 'log': False,\n",
        " 'normed': False,\n",
        " 'orientation': u'vertical',\n",
        " 'patches': [<Container object of 10 artists>],\n",
        " 'range': <function range>,\n",
        " 'rwidth': None,\n",
        " 'stacked': False,\n",
        " 'type': u'hist',\n",
        " 'weights': None,\n",
        " 'x': array([[ 0.95593733,  0.17961939,  0.9926465 , -0.22853961,  0.24541644,\n",
        "         -2.06075396, -0.7772132 ,  0.22439363, -1.01205012,  1.62258391]])}"
       ]
      }
     ],
     "prompt_number": 3
    },
    {
     "cell_type": "code",
     "collapsed": false,
     "input": [],
     "language": "python",
     "metadata": {},
     "outputs": []
    }
   ],
   "metadata": {}
  }
 ]
}